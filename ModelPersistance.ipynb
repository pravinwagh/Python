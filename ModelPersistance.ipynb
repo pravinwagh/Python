{
 "cells": [
  {
   "cell_type": "code",
   "execution_count": 1,
   "metadata": {
    "collapsed": true
   },
   "outputs": [],
   "source": [
    "from sklearn.datasets import load_iris\n",
    "iris_dataset = load_iris()"
   ]
  },
  {
   "cell_type": "code",
   "execution_count": 2,
   "metadata": {
    "collapsed": false
   },
   "outputs": [
    {
     "data": {
      "text/plain": [
       "['sepal length (cm)',\n",
       " 'sepal width (cm)',\n",
       " 'petal length (cm)',\n",
       " 'petal width (cm)']"
      ]
     },
     "execution_count": 2,
     "metadata": {},
     "output_type": "execute_result"
    }
   ],
   "source": [
    "iris_dataset.feature_names"
   ]
  },
  {
   "cell_type": "code",
   "execution_count": 3,
   "metadata": {
    "collapsed": false
   },
   "outputs": [
    {
     "data": {
      "text/plain": [
       "array([0, 0, 0, 0, 0, 0, 0, 0, 0, 0, 0, 0, 0, 0, 0, 0, 0, 0, 0, 0, 0, 0, 0,\n",
       "       0, 0, 0, 0, 0, 0, 0, 0, 0, 0, 0, 0, 0, 0, 0, 0, 0, 0, 0, 0, 0, 0, 0,\n",
       "       0, 0, 0, 0, 1, 1, 1, 1, 1, 1, 1, 1, 1, 1, 1, 1, 1, 1, 1, 1, 1, 1, 1,\n",
       "       1, 1, 1, 1, 1, 1, 1, 1, 1, 1, 1, 1, 1, 1, 1, 1, 1, 1, 1, 1, 1, 1, 1,\n",
       "       1, 1, 1, 1, 1, 1, 1, 1, 2, 2, 2, 2, 2, 2, 2, 2, 2, 2, 2, 2, 2, 2, 2,\n",
       "       2, 2, 2, 2, 2, 2, 2, 2, 2, 2, 2, 2, 2, 2, 2, 2, 2, 2, 2, 2, 2, 2, 2,\n",
       "       2, 2, 2, 2, 2, 2, 2, 2, 2, 2, 2, 2])"
      ]
     },
     "execution_count": 3,
     "metadata": {},
     "output_type": "execute_result"
    }
   ],
   "source": [
    "iris_dataset.target"
   ]
  },
  {
   "cell_type": "code",
   "execution_count": 4,
   "metadata": {
    "collapsed": true
   },
   "outputs": [],
   "source": [
    "X_feature = iris_dataset.data\n",
    "Y_target = iris_dataset.target"
   ]
  },
  {
   "cell_type": "code",
   "execution_count": 5,
   "metadata": {
    "collapsed": true
   },
   "outputs": [],
   "source": [
    "X_new = [[3,5,4,1],[5,3,4,2]]"
   ]
  },
  {
   "cell_type": "code",
   "execution_count": 6,
   "metadata": {
    "collapsed": true
   },
   "outputs": [],
   "source": [
    "from sklearn.linear_model import LogisticRegression\n",
    "logreg = LogisticRegression()"
   ]
  },
  {
   "cell_type": "code",
   "execution_count": 7,
   "metadata": {
    "collapsed": false
   },
   "outputs": [
    {
     "data": {
      "text/plain": [
       "LogisticRegression(C=1.0, class_weight=None, dual=False, fit_intercept=True,\n",
       "          intercept_scaling=1, max_iter=100, multi_class='ovr', n_jobs=1,\n",
       "          penalty='l2', random_state=None, solver='liblinear', tol=0.0001,\n",
       "          verbose=0, warm_start=False)"
      ]
     },
     "execution_count": 7,
     "metadata": {},
     "output_type": "execute_result"
    }
   ],
   "source": [
    "logreg.fit(X_feature,Y_target)"
   ]
  },
  {
   "cell_type": "code",
   "execution_count": 8,
   "metadata": {
    "collapsed": false
   },
   "outputs": [
    {
     "data": {
      "text/plain": [
       "array([0, 2])"
      ]
     },
     "execution_count": 8,
     "metadata": {},
     "output_type": "execute_result"
    }
   ],
   "source": [
    "logreg.predict(X_new)"
   ]
  },
  {
   "cell_type": "code",
   "execution_count": 9,
   "metadata": {
    "collapsed": true
   },
   "outputs": [],
   "source": [
    "import pickle as pkl"
   ]
  },
  {
   "cell_type": "code",
   "execution_count": 10,
   "metadata": {
    "collapsed": false
   },
   "outputs": [
    {
     "data": {
      "text/plain": [
       "'ccopy_reg\\n_reconstructor\\np0\\n(csklearn.linear_model.logistic\\nLogisticRegression\\np1\\nc__builtin__\\nobject\\np2\\nNtp3\\nRp4\\n(dp5\\nS\\'warm_start\\'\\np6\\nI00\\nsS\\'C\\'\\np7\\nF1.0\\nsS\\'max_iter\\'\\np8\\nI100\\nsS\\'verbose\\'\\np9\\nI0\\nsS\\'intercept_scaling\\'\\np10\\nI1\\nsS\\'dual\\'\\np11\\nI00\\nsS\\'fit_intercept\\'\\np12\\nI01\\nsS\\'classes_\\'\\np13\\ncnumpy.core.multiarray\\n_reconstruct\\np14\\n(cnumpy\\nndarray\\np15\\n(I0\\ntp16\\nS\\'b\\'\\np17\\ntp18\\nRp19\\n(I1\\n(L3L\\ntp20\\ncnumpy\\ndtype\\np21\\n(S\\'i4\\'\\np22\\nI0\\nI1\\ntp23\\nRp24\\n(I3\\nS\\'<\\'\\np25\\nNNNI-1\\nI-1\\nI0\\ntp26\\nbI00\\nS\\'\\\\x00\\\\x00\\\\x00\\\\x00\\\\x01\\\\x00\\\\x00\\\\x00\\\\x02\\\\x00\\\\x00\\\\x00\\'\\np27\\ntp28\\nbsS\\'solver\\'\\np29\\nS\\'liblinear\\'\\np30\\nsS\\'n_iter_\\'\\np31\\ng14\\n(g15\\n(I0\\ntp32\\ng17\\ntp33\\nRp34\\n(I1\\n(L1L\\ntp35\\ng21\\n(S\\'i4\\'\\np36\\nI0\\nI1\\ntp37\\nRp38\\n(I3\\nS\\'<\\'\\np39\\nNNNI-1\\nI-1\\nI0\\ntp40\\nbI00\\nS\\'\\\\x07\\\\x00\\\\x00\\\\x00\\'\\np41\\ntp42\\nbsS\\'penalty\\'\\np43\\nS\\'l2\\'\\np44\\nsS\\'multi_class\\'\\np45\\nS\\'ovr\\'\\np46\\nsS\\'random_state\\'\\np47\\nNsS\\'tol\\'\\np48\\nF0.0001\\nsS\\'n_jobs\\'\\np49\\nI1\\nsS\\'coef_\\'\\np50\\ng14\\n(g15\\n(I0\\ntp51\\ng17\\ntp52\\nRp53\\n(I1\\n(L3L\\nL4L\\ntp54\\ng21\\n(S\\'f8\\'\\np55\\nI0\\nI1\\ntp56\\nRp57\\n(I3\\nS\\'<\\'\\np58\\nNNNI-1\\nI-1\\nI0\\ntp59\\nbI01\\nS\\'\\\\x9a\\\\x1c\\\\x904+\\\\x8f\\\\xda?v5\\\\xf6\\\\x7f9\\\\xaa\\\\xda?8VL\\\\xe5\\\\x05R\\\\xfb\\\\xbf\\\\xf6\\\\xad\\\\xd9^ya\\\\xf7?\\\\x89\\\\x86\\\\x10B\\\\x03\\\\x9d\\\\xf9\\\\xbf_\\\\xa7x\\\\xf5\\\\\\\\\\\\x8c\\\\xf8\\\\xbf\\\\x8b$8y\\\\xdd\\\\x18\\\\x02\\\\xc0\\\\xac\\\\x8f\\\\xee\\\\xd9+|\\\\xe2?O\\\\x10\\\\xf2\\\\xcc\\\\x8c\\\\xc4\\\\x03@\\\\xda\\\\xb0;l,w\\\\xf0\\\\xbf8_\\\\xe7W*+\\\\xf6\\\\xbf\\\\xe6T`-lq\\\\x04@\\'\\np60\\ntp61\\nbsS\\'intercept_\\'\\np62\\ng14\\n(g15\\n(I0\\ntp63\\ng17\\ntp64\\nRp65\\n(I1\\n(L3L\\ntp66\\ng57\\nI00\\nS\"\\\\xd4\\\\x86D\\\\x03\\\\xb1\\\\xff\\\\xd0?\\\\xa2\\\\xcc=I\\\\xe5]\\\\xf1?\\\\x9a\\'\\\\xad\\\\x8dxo\\\\xf3\\\\xbf\"\\np67\\ntp68\\nbsS\\'class_weight\\'\\np69\\nNsb.'"
      ]
     },
     "execution_count": 10,
     "metadata": {},
     "output_type": "execute_result"
    }
   ],
   "source": [
    "persist_model = pkl.dumps(logreg)\n",
    "persist_model"
   ]
  },
  {
   "cell_type": "code",
   "execution_count": 11,
   "metadata": {
    "collapsed": false
   },
   "outputs": [
    {
     "data": {
      "text/plain": [
       "['regresfilename.pkl',\n",
       " 'regresfilename.pkl_01.npy',\n",
       " 'regresfilename.pkl_02.npy',\n",
       " 'regresfilename.pkl_03.npy',\n",
       " 'regresfilename.pkl_04.npy']"
      ]
     },
     "execution_count": 11,
     "metadata": {},
     "output_type": "execute_result"
    }
   ],
   "source": [
    "from sklearn.externals import joblib\n",
    "joblib.dump(logreg,'regresfilename.pkl')"
   ]
  },
  {
   "cell_type": "code",
   "execution_count": 12,
   "metadata": {
    "collapsed": true
   },
   "outputs": [],
   "source": [
    "new_logreg_estimator = joblib.load('regresfilename.pkl')"
   ]
  },
  {
   "cell_type": "code",
   "execution_count": 13,
   "metadata": {
    "collapsed": false
   },
   "outputs": [
    {
     "data": {
      "text/plain": [
       "LogisticRegression(C=1.0, class_weight=None, dual=False, fit_intercept=True,\n",
       "          intercept_scaling=1, max_iter=100, multi_class='ovr', n_jobs=1,\n",
       "          penalty='l2', random_state=None, solver='liblinear', tol=0.0001,\n",
       "          verbose=0, warm_start=False)"
      ]
     },
     "execution_count": 13,
     "metadata": {},
     "output_type": "execute_result"
    }
   ],
   "source": [
    "new_logreg_estimator"
   ]
  },
  {
   "cell_type": "code",
   "execution_count": 14,
   "metadata": {
    "collapsed": false
   },
   "outputs": [
    {
     "data": {
      "text/plain": [
       "array([0, 2])"
      ]
     },
     "execution_count": 14,
     "metadata": {},
     "output_type": "execute_result"
    }
   ],
   "source": [
    "new_logreg_estimator.predict(X_new)"
   ]
  }
 ],
 "metadata": {
  "kernelspec": {
   "display_name": "Python [conda root]",
   "language": "python",
   "name": "conda-root-py"
  },
  "language_info": {
   "codemirror_mode": {
    "name": "ipython",
    "version": 2
   },
   "file_extension": ".py",
   "mimetype": "text/x-python",
   "name": "python",
   "nbconvert_exporter": "python",
   "pygments_lexer": "ipython2",
   "version": "2.7.12"
  }
 },
 "nbformat": 4,
 "nbformat_minor": 1
}
