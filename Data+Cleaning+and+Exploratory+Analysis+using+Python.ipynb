{
 "cells": [
  {
   "cell_type": "code",
   "execution_count": 2,
   "metadata": {
    "collapsed": true
   },
   "outputs": [],
   "source": [
    "#import libraries\n",
    "import pandas as pd"
   ]
  },
  {
   "cell_type": "code",
   "execution_count": 3,
   "metadata": {
    "collapsed": false
   },
   "outputs": [],
   "source": [
    "# import Federal Aviation Authority dataset\n",
    "FedAviAuth_ds = pd.read_csv('C:\\\\Users\\\\pravinw\\\\Documents\\\\Fractal\\\\DATA SCIENTIST\\\\faa_ai_prelim\\\\faa_ai_prelim.csv')"
   ]
  },
  {
   "cell_type": "code",
   "execution_count": 4,
   "metadata": {
    "collapsed": false
   },
   "outputs": [
    {
     "data": {
      "text/plain": [
       "(83, 42)"
      ]
     },
     "execution_count": 4,
     "metadata": {},
     "output_type": "execute_result"
    }
   ],
   "source": [
    "# View the Shape of Dataset (contains 83 rows and 42 columns)\n",
    "FedAviAuth_ds.shape"
   ]
  },
  {
   "cell_type": "code",
   "execution_count": 5,
   "metadata": {
    "collapsed": false
   },
   "outputs": [
    {
     "data": {
      "text/html": [
       "<div>\n",
       "<table border=\"1\" class=\"dataframe\">\n",
       "  <thead>\n",
       "    <tr style=\"text-align: right;\">\n",
       "      <th></th>\n",
       "      <th>UPDATED</th>\n",
       "      <th>ENTRY_DATE</th>\n",
       "      <th>EVENT_LCL_DATE</th>\n",
       "      <th>EVENT_LCL_TIME</th>\n",
       "      <th>LOC_CITY_NAME</th>\n",
       "      <th>LOC_STATE_NAME</th>\n",
       "      <th>LOC_CNTRY_NAME</th>\n",
       "      <th>RMK_TEXT</th>\n",
       "      <th>EVENT_TYPE_DESC</th>\n",
       "      <th>FSDO_DESC</th>\n",
       "      <th>...</th>\n",
       "      <th>PAX_INJ_NONE</th>\n",
       "      <th>PAX_INJ_MINOR</th>\n",
       "      <th>PAX_INJ_SERIOUS</th>\n",
       "      <th>PAX_INJ_FATAL</th>\n",
       "      <th>PAX_INJ_UNK</th>\n",
       "      <th>GRND_INJ_NONE</th>\n",
       "      <th>GRND_INJ_MINOR</th>\n",
       "      <th>GRND_INJ_SERIOUS</th>\n",
       "      <th>GRND_INJ_FATAL</th>\n",
       "      <th>GRND_INJ_UNK</th>\n",
       "    </tr>\n",
       "  </thead>\n",
       "  <tbody>\n",
       "    <tr>\n",
       "      <th>0</th>\n",
       "      <td>No</td>\n",
       "      <td>19-FEB-16</td>\n",
       "      <td>19-FEB-16</td>\n",
       "      <td>00:45:00Z</td>\n",
       "      <td>MARSHVILLE</td>\n",
       "      <td>North Carolina</td>\n",
       "      <td>NaN</td>\n",
       "      <td>AIRCRAFT CRASHED INTO TREES, THE 1 PERSON ON B...</td>\n",
       "      <td>Accident</td>\n",
       "      <td>FAA Charlotte FSDO-68</td>\n",
       "      <td>...</td>\n",
       "      <td>NaN</td>\n",
       "      <td>NaN</td>\n",
       "      <td>NaN</td>\n",
       "      <td>NaN</td>\n",
       "      <td>NaN</td>\n",
       "      <td>NaN</td>\n",
       "      <td>NaN</td>\n",
       "      <td>NaN</td>\n",
       "      <td>NaN</td>\n",
       "      <td>NaN</td>\n",
       "    </tr>\n",
       "    <tr>\n",
       "      <th>1</th>\n",
       "      <td>No</td>\n",
       "      <td>19-FEB-16</td>\n",
       "      <td>18-FEB-16</td>\n",
       "      <td>23:55:00Z</td>\n",
       "      <td>TAVERNIER</td>\n",
       "      <td>Florida</td>\n",
       "      <td>NaN</td>\n",
       "      <td>AIRCRAFT ON LANDING WENT OFF THE END OF THE RU...</td>\n",
       "      <td>Incident</td>\n",
       "      <td>FAA Miami FSDO-19</td>\n",
       "      <td>...</td>\n",
       "      <td>NaN</td>\n",
       "      <td>NaN</td>\n",
       "      <td>NaN</td>\n",
       "      <td>NaN</td>\n",
       "      <td>NaN</td>\n",
       "      <td>NaN</td>\n",
       "      <td>NaN</td>\n",
       "      <td>NaN</td>\n",
       "      <td>NaN</td>\n",
       "      <td>NaN</td>\n",
       "    </tr>\n",
       "    <tr>\n",
       "      <th>2</th>\n",
       "      <td>No</td>\n",
       "      <td>19-FEB-16</td>\n",
       "      <td>18-FEB-16</td>\n",
       "      <td>22:14:00Z</td>\n",
       "      <td>TRENTON</td>\n",
       "      <td>New Jersey</td>\n",
       "      <td>NaN</td>\n",
       "      <td>AIRCRAFT ON FINAL SUSTAINED A BIRD STRIKE, LAN...</td>\n",
       "      <td>Incident</td>\n",
       "      <td>FAA Philadelphia FSDO-17</td>\n",
       "      <td>...</td>\n",
       "      <td>NaN</td>\n",
       "      <td>NaN</td>\n",
       "      <td>NaN</td>\n",
       "      <td>NaN</td>\n",
       "      <td>NaN</td>\n",
       "      <td>NaN</td>\n",
       "      <td>NaN</td>\n",
       "      <td>NaN</td>\n",
       "      <td>NaN</td>\n",
       "      <td>NaN</td>\n",
       "    </tr>\n",
       "    <tr>\n",
       "      <th>3</th>\n",
       "      <td>No</td>\n",
       "      <td>19-FEB-16</td>\n",
       "      <td>18-FEB-16</td>\n",
       "      <td>17:10:00Z</td>\n",
       "      <td>ASHEVILLE</td>\n",
       "      <td>North Carolina</td>\n",
       "      <td>NaN</td>\n",
       "      <td>AIRCRAFT ON LANDING, GEAR COLLAPSED, ASHEVILLE...</td>\n",
       "      <td>Incident</td>\n",
       "      <td>FAA Charlotte FSDO-68</td>\n",
       "      <td>...</td>\n",
       "      <td>NaN</td>\n",
       "      <td>NaN</td>\n",
       "      <td>NaN</td>\n",
       "      <td>NaN</td>\n",
       "      <td>NaN</td>\n",
       "      <td>NaN</td>\n",
       "      <td>NaN</td>\n",
       "      <td>NaN</td>\n",
       "      <td>NaN</td>\n",
       "      <td>NaN</td>\n",
       "    </tr>\n",
       "    <tr>\n",
       "      <th>4</th>\n",
       "      <td>No</td>\n",
       "      <td>19-FEB-16</td>\n",
       "      <td>18-FEB-16</td>\n",
       "      <td>00:26:00Z</td>\n",
       "      <td>TALKEETNA</td>\n",
       "      <td>Alaska</td>\n",
       "      <td>NaN</td>\n",
       "      <td>AIRCRAFT ON LANDING, NOSE GEAR COLLAPSED, TALK...</td>\n",
       "      <td>Incident</td>\n",
       "      <td>FAA Anchorage FSDO-03</td>\n",
       "      <td>...</td>\n",
       "      <td>NaN</td>\n",
       "      <td>1.0</td>\n",
       "      <td>NaN</td>\n",
       "      <td>NaN</td>\n",
       "      <td>NaN</td>\n",
       "      <td>NaN</td>\n",
       "      <td>NaN</td>\n",
       "      <td>NaN</td>\n",
       "      <td>NaN</td>\n",
       "      <td>NaN</td>\n",
       "    </tr>\n",
       "  </tbody>\n",
       "</table>\n",
       "<p>5 rows × 42 columns</p>\n",
       "</div>"
      ],
      "text/plain": [
       "  UPDATED ENTRY_DATE EVENT_LCL_DATE EVENT_LCL_TIME LOC_CITY_NAME  \\\n",
       "0      No  19-FEB-16      19-FEB-16      00:45:00Z    MARSHVILLE   \n",
       "1      No  19-FEB-16      18-FEB-16      23:55:00Z     TAVERNIER   \n",
       "2      No  19-FEB-16      18-FEB-16      22:14:00Z       TRENTON   \n",
       "3      No  19-FEB-16      18-FEB-16      17:10:00Z     ASHEVILLE   \n",
       "4      No  19-FEB-16      18-FEB-16      00:26:00Z     TALKEETNA   \n",
       "\n",
       "   LOC_STATE_NAME LOC_CNTRY_NAME  \\\n",
       "0  North Carolina            NaN   \n",
       "1         Florida            NaN   \n",
       "2      New Jersey            NaN   \n",
       "3  North Carolina            NaN   \n",
       "4          Alaska            NaN   \n",
       "\n",
       "                                            RMK_TEXT EVENT_TYPE_DESC  \\\n",
       "0  AIRCRAFT CRASHED INTO TREES, THE 1 PERSON ON B...        Accident   \n",
       "1  AIRCRAFT ON LANDING WENT OFF THE END OF THE RU...        Incident   \n",
       "2  AIRCRAFT ON FINAL SUSTAINED A BIRD STRIKE, LAN...        Incident   \n",
       "3  AIRCRAFT ON LANDING, GEAR COLLAPSED, ASHEVILLE...        Incident   \n",
       "4  AIRCRAFT ON LANDING, NOSE GEAR COLLAPSED, TALK...        Incident   \n",
       "\n",
       "                  FSDO_DESC      ...      PAX_INJ_NONE PAX_INJ_MINOR  \\\n",
       "0     FAA Charlotte FSDO-68      ...               NaN           NaN   \n",
       "1         FAA Miami FSDO-19      ...               NaN           NaN   \n",
       "2  FAA Philadelphia FSDO-17      ...               NaN           NaN   \n",
       "3     FAA Charlotte FSDO-68      ...               NaN           NaN   \n",
       "4     FAA Anchorage FSDO-03      ...               NaN           1.0   \n",
       "\n",
       "  PAX_INJ_SERIOUS PAX_INJ_FATAL PAX_INJ_UNK  GRND_INJ_NONE GRND_INJ_MINOR  \\\n",
       "0             NaN           NaN         NaN            NaN            NaN   \n",
       "1             NaN           NaN         NaN            NaN            NaN   \n",
       "2             NaN           NaN         NaN            NaN            NaN   \n",
       "3             NaN           NaN         NaN            NaN            NaN   \n",
       "4             NaN           NaN         NaN            NaN            NaN   \n",
       "\n",
       "  GRND_INJ_SERIOUS GRND_INJ_FATAL  GRND_INJ_UNK  \n",
       "0              NaN            NaN           NaN  \n",
       "1              NaN            NaN           NaN  \n",
       "2              NaN            NaN           NaN  \n",
       "3              NaN            NaN           NaN  \n",
       "4              NaN            NaN           NaN  \n",
       "\n",
       "[5 rows x 42 columns]"
      ]
     },
     "execution_count": 5,
     "metadata": {},
     "output_type": "execute_result"
    }
   ],
   "source": [
    "# View Top 5 observations\n",
    "FedAviAuth_ds.head()"
   ]
  },
  {
   "cell_type": "code",
   "execution_count": 6,
   "metadata": {
    "collapsed": false
   },
   "outputs": [
    {
     "data": {
      "text/plain": [
       "Index([u'UPDATED', u'ENTRY_DATE', u'EVENT_LCL_DATE', u'EVENT_LCL_TIME',\n",
       "       u'LOC_CITY_NAME', u'LOC_STATE_NAME', u'LOC_CNTRY_NAME', u'RMK_TEXT',\n",
       "       u'EVENT_TYPE_DESC', u'FSDO_DESC', u'REGIST_NBR', u'FLT_NBR',\n",
       "       u'ACFT_OPRTR', u'ACFT_MAKE_NAME', u'ACFT_MODEL_NAME',\n",
       "       u'ACFT_MISSING_FLAG', u'ACFT_DMG_DESC', u'FLT_ACTIVITY', u'FLT_PHASE',\n",
       "       u'FAR_PART', u'MAX_INJ_LVL', u'FATAL_FLAG', u'FLT_CRW_INJ_NONE',\n",
       "       u'FLT_CRW_INJ_MINOR', u'FLT_CRW_INJ_SERIOUS', u'FLT_CRW_INJ_FATAL',\n",
       "       u'FLT_CRW_INJ_UNK', u'CBN_CRW_INJ_NONE', u'CBN_CRW_INJ_MINOR',\n",
       "       u'CBN_CRW_INJ_SERIOUS', u'CBN_CRW_INJ_FATAL', u'CBN_CRW_INJ_UNK',\n",
       "       u'PAX_INJ_NONE', u'PAX_INJ_MINOR', u'PAX_INJ_SERIOUS', u'PAX_INJ_FATAL',\n",
       "       u'PAX_INJ_UNK', u'GRND_INJ_NONE', u'GRND_INJ_MINOR',\n",
       "       u'GRND_INJ_SERIOUS', u'GRND_INJ_FATAL', u'GRND_INJ_UNK'],\n",
       "      dtype='object')"
      ]
     },
     "execution_count": 6,
     "metadata": {},
     "output_type": "execute_result"
    }
   ],
   "source": [
    "# Check the Column names in the dataset\n",
    "FedAviAuth_ds.columns"
   ]
  },
  {
   "cell_type": "code",
   "execution_count": 7,
   "metadata": {
    "collapsed": true
   },
   "outputs": [],
   "source": [
    "# Select require columns and create a new dataframe\n",
    "FAA_new_df = FedAviAuth_ds[['ACFT_MAKE_NAME','LOC_STATE_NAME','ACFT_MODEL_NAME','RMK_TEXT','FLT_PHASE','EVENT_TYPE_DESC','FATAL_FLAG']]"
   ]
  },
  {
   "cell_type": "code",
   "execution_count": 8,
   "metadata": {
    "collapsed": false
   },
   "outputs": [
    {
     "data": {
      "text/plain": [
       "pandas.core.frame.DataFrame"
      ]
     },
     "execution_count": 8,
     "metadata": {},
     "output_type": "execute_result"
    }
   ],
   "source": [
    "# Check the object type of the dataset\n",
    "type(FAA_new_df)"
   ]
  },
  {
   "cell_type": "code",
   "execution_count": 9,
   "metadata": {
    "collapsed": false
   },
   "outputs": [
    {
     "data": {
      "text/html": [
       "<div>\n",
       "<table border=\"1\" class=\"dataframe\">\n",
       "  <thead>\n",
       "    <tr style=\"text-align: right;\">\n",
       "      <th></th>\n",
       "      <th>ACFT_MAKE_NAME</th>\n",
       "      <th>LOC_STATE_NAME</th>\n",
       "      <th>ACFT_MODEL_NAME</th>\n",
       "      <th>RMK_TEXT</th>\n",
       "      <th>FLT_PHASE</th>\n",
       "      <th>EVENT_TYPE_DESC</th>\n",
       "      <th>FATAL_FLAG</th>\n",
       "    </tr>\n",
       "  </thead>\n",
       "  <tbody>\n",
       "    <tr>\n",
       "      <th>0</th>\n",
       "      <td>BEECH</td>\n",
       "      <td>North Carolina</td>\n",
       "      <td>36</td>\n",
       "      <td>AIRCRAFT CRASHED INTO TREES, THE 1 PERSON ON B...</td>\n",
       "      <td>UNKNOWN (UNK)</td>\n",
       "      <td>Accident</td>\n",
       "      <td>Yes</td>\n",
       "    </tr>\n",
       "    <tr>\n",
       "      <th>1</th>\n",
       "      <td>VANS</td>\n",
       "      <td>Florida</td>\n",
       "      <td>RV7</td>\n",
       "      <td>AIRCRAFT ON LANDING WENT OFF THE END OF THE RU...</td>\n",
       "      <td>LANDING (LDG)</td>\n",
       "      <td>Incident</td>\n",
       "      <td>NaN</td>\n",
       "    </tr>\n",
       "    <tr>\n",
       "      <th>2</th>\n",
       "      <td>CESSNA</td>\n",
       "      <td>New Jersey</td>\n",
       "      <td>172</td>\n",
       "      <td>AIRCRAFT ON FINAL SUSTAINED A BIRD STRIKE, LAN...</td>\n",
       "      <td>APPROACH (APR)</td>\n",
       "      <td>Incident</td>\n",
       "      <td>NaN</td>\n",
       "    </tr>\n",
       "    <tr>\n",
       "      <th>3</th>\n",
       "      <td>LANCAIR</td>\n",
       "      <td>North Carolina</td>\n",
       "      <td>235</td>\n",
       "      <td>AIRCRAFT ON LANDING, GEAR COLLAPSED, ASHEVILLE...</td>\n",
       "      <td>LANDING (LDG)</td>\n",
       "      <td>Incident</td>\n",
       "      <td>NaN</td>\n",
       "    </tr>\n",
       "    <tr>\n",
       "      <th>4</th>\n",
       "      <td>CESSNA</td>\n",
       "      <td>Alaska</td>\n",
       "      <td>172</td>\n",
       "      <td>AIRCRAFT ON LANDING, NOSE GEAR COLLAPSED, TALK...</td>\n",
       "      <td>LANDING (LDG)</td>\n",
       "      <td>Incident</td>\n",
       "      <td>NaN</td>\n",
       "    </tr>\n",
       "  </tbody>\n",
       "</table>\n",
       "</div>"
      ],
      "text/plain": [
       "  ACFT_MAKE_NAME  LOC_STATE_NAME ACFT_MODEL_NAME  \\\n",
       "0          BEECH  North Carolina              36   \n",
       "1           VANS         Florida             RV7   \n",
       "2         CESSNA      New Jersey             172   \n",
       "3        LANCAIR  North Carolina             235   \n",
       "4         CESSNA          Alaska             172   \n",
       "\n",
       "                                            RMK_TEXT       FLT_PHASE  \\\n",
       "0  AIRCRAFT CRASHED INTO TREES, THE 1 PERSON ON B...   UNKNOWN (UNK)   \n",
       "1  AIRCRAFT ON LANDING WENT OFF THE END OF THE RU...   LANDING (LDG)   \n",
       "2  AIRCRAFT ON FINAL SUSTAINED A BIRD STRIKE, LAN...  APPROACH (APR)   \n",
       "3  AIRCRAFT ON LANDING, GEAR COLLAPSED, ASHEVILLE...   LANDING (LDG)   \n",
       "4  AIRCRAFT ON LANDING, NOSE GEAR COLLAPSED, TALK...   LANDING (LDG)   \n",
       "\n",
       "  EVENT_TYPE_DESC FATAL_FLAG  \n",
       "0        Accident        Yes  \n",
       "1        Incident        NaN  \n",
       "2        Incident        NaN  \n",
       "3        Incident        NaN  \n",
       "4        Incident        NaN  "
      ]
     },
     "execution_count": 9,
     "metadata": {},
     "output_type": "execute_result"
    }
   ],
   "source": [
    "# Check the Top 5 observations of new Dataset\n",
    "FAA_new_df.head()"
   ]
  },
  {
   "cell_type": "code",
   "execution_count": 10,
   "metadata": {
    "collapsed": false
   },
   "outputs": [
    {
     "name": "stderr",
     "output_type": "stream",
     "text": [
      "C:\\Users\\pravinw\\Anaconda2\\lib\\site-packages\\pandas\\core\\generic.py:3191: SettingWithCopyWarning: \n",
      "A value is trying to be set on a copy of a slice from a DataFrame\n",
      "\n",
      "See the caveats in the documentation: http://pandas.pydata.org/pandas-docs/stable/indexing.html#indexing-view-versus-copy\n",
      "  self._update_inplace(new_data)\n"
     ]
    }
   ],
   "source": [
    "# Cleaning the Dataset\n",
    "# Replace all missing values(NAN) in Fatal Flag column with the required output\n",
    "FAA_new_df['FATAL_FLAG'].fillna(value='No', inplace=True)"
   ]
  },
  {
   "cell_type": "code",
   "execution_count": 11,
   "metadata": {
    "collapsed": false
   },
   "outputs": [
    {
     "data": {
      "text/html": [
       "<div>\n",
       "<table border=\"1\" class=\"dataframe\">\n",
       "  <thead>\n",
       "    <tr style=\"text-align: right;\">\n",
       "      <th></th>\n",
       "      <th>ACFT_MAKE_NAME</th>\n",
       "      <th>LOC_STATE_NAME</th>\n",
       "      <th>ACFT_MODEL_NAME</th>\n",
       "      <th>RMK_TEXT</th>\n",
       "      <th>FLT_PHASE</th>\n",
       "      <th>EVENT_TYPE_DESC</th>\n",
       "      <th>FATAL_FLAG</th>\n",
       "    </tr>\n",
       "  </thead>\n",
       "  <tbody>\n",
       "    <tr>\n",
       "      <th>0</th>\n",
       "      <td>BEECH</td>\n",
       "      <td>North Carolina</td>\n",
       "      <td>36</td>\n",
       "      <td>AIRCRAFT CRASHED INTO TREES, THE 1 PERSON ON B...</td>\n",
       "      <td>UNKNOWN (UNK)</td>\n",
       "      <td>Accident</td>\n",
       "      <td>Yes</td>\n",
       "    </tr>\n",
       "    <tr>\n",
       "      <th>1</th>\n",
       "      <td>VANS</td>\n",
       "      <td>Florida</td>\n",
       "      <td>RV7</td>\n",
       "      <td>AIRCRAFT ON LANDING WENT OFF THE END OF THE RU...</td>\n",
       "      <td>LANDING (LDG)</td>\n",
       "      <td>Incident</td>\n",
       "      <td>No</td>\n",
       "    </tr>\n",
       "    <tr>\n",
       "      <th>2</th>\n",
       "      <td>CESSNA</td>\n",
       "      <td>New Jersey</td>\n",
       "      <td>172</td>\n",
       "      <td>AIRCRAFT ON FINAL SUSTAINED A BIRD STRIKE, LAN...</td>\n",
       "      <td>APPROACH (APR)</td>\n",
       "      <td>Incident</td>\n",
       "      <td>No</td>\n",
       "    </tr>\n",
       "    <tr>\n",
       "      <th>3</th>\n",
       "      <td>LANCAIR</td>\n",
       "      <td>North Carolina</td>\n",
       "      <td>235</td>\n",
       "      <td>AIRCRAFT ON LANDING, GEAR COLLAPSED, ASHEVILLE...</td>\n",
       "      <td>LANDING (LDG)</td>\n",
       "      <td>Incident</td>\n",
       "      <td>No</td>\n",
       "    </tr>\n",
       "    <tr>\n",
       "      <th>4</th>\n",
       "      <td>CESSNA</td>\n",
       "      <td>Alaska</td>\n",
       "      <td>172</td>\n",
       "      <td>AIRCRAFT ON LANDING, NOSE GEAR COLLAPSED, TALK...</td>\n",
       "      <td>LANDING (LDG)</td>\n",
       "      <td>Incident</td>\n",
       "      <td>No</td>\n",
       "    </tr>\n",
       "  </tbody>\n",
       "</table>\n",
       "</div>"
      ],
      "text/plain": [
       "  ACFT_MAKE_NAME  LOC_STATE_NAME ACFT_MODEL_NAME  \\\n",
       "0          BEECH  North Carolina              36   \n",
       "1           VANS         Florida             RV7   \n",
       "2         CESSNA      New Jersey             172   \n",
       "3        LANCAIR  North Carolina             235   \n",
       "4         CESSNA          Alaska             172   \n",
       "\n",
       "                                            RMK_TEXT       FLT_PHASE  \\\n",
       "0  AIRCRAFT CRASHED INTO TREES, THE 1 PERSON ON B...   UNKNOWN (UNK)   \n",
       "1  AIRCRAFT ON LANDING WENT OFF THE END OF THE RU...   LANDING (LDG)   \n",
       "2  AIRCRAFT ON FINAL SUSTAINED A BIRD STRIKE, LAN...  APPROACH (APR)   \n",
       "3  AIRCRAFT ON LANDING, GEAR COLLAPSED, ASHEVILLE...   LANDING (LDG)   \n",
       "4  AIRCRAFT ON LANDING, NOSE GEAR COLLAPSED, TALK...   LANDING (LDG)   \n",
       "\n",
       "  EVENT_TYPE_DESC FATAL_FLAG  \n",
       "0        Accident        Yes  \n",
       "1        Incident         No  \n",
       "2        Incident         No  \n",
       "3        Incident         No  \n",
       "4        Incident         No  "
      ]
     },
     "execution_count": 11,
     "metadata": {},
     "output_type": "execute_result"
    }
   ],
   "source": [
    "# Now view the top 5 records where all the value with NAN is replaced by No in the Fatal Flag column\n",
    "FAA_new_df.head()"
   ]
  },
  {
   "cell_type": "code",
   "execution_count": 12,
   "metadata": {
    "collapsed": false
   },
   "outputs": [
    {
     "data": {
      "text/plain": [
       "(83, 7)"
      ]
     },
     "execution_count": 12,
     "metadata": {},
     "output_type": "execute_result"
    }
   ],
   "source": [
    "# View the shape of the new dataframe\n",
    "FAA_new_df.shape"
   ]
  },
  {
   "cell_type": "code",
   "execution_count": 13,
   "metadata": {
    "collapsed": true
   },
   "outputs": [],
   "source": [
    "# Drop the rows in ACFT_MAKE_NAME column which has missing values\n",
    "# The same dataset will be amended \n",
    "FAA_new_df = FAA_new_df.dropna(subset=['ACFT_MAKE_NAME'])"
   ]
  },
  {
   "cell_type": "code",
   "execution_count": 14,
   "metadata": {
    "collapsed": false
   },
   "outputs": [
    {
     "data": {
      "text/plain": [
       "(78, 7)"
      ]
     },
     "execution_count": 14,
     "metadata": {},
     "output_type": "execute_result"
    }
   ],
   "source": [
    "# View the shape of the Dataset to compare the new record count against older\n",
    "# We find that 5 records with missing ACFT_MAKE_NAME are dropped from our table\n",
    "FAA_new_df.shape"
   ]
  },
  {
   "cell_type": "code",
   "execution_count": 15,
   "metadata": {
    "collapsed": true
   },
   "outputs": [],
   "source": [
    "# Groupby as per ACFT_MAKE_NAME\n",
    "Aircraft_model_count = FAA_new_df.groupby('ACFT_MAKE_NAME')"
   ]
  },
  {
   "cell_type": "code",
   "execution_count": 16,
   "metadata": {
    "collapsed": false
   },
   "outputs": [
    {
     "data": {
      "text/plain": [
       "ACFT_MAKE_NAME\n",
       "AERO COMMANDER             1\n",
       "AERONCA                    1\n",
       "AEROSTAR INTERNATIONAL     1\n",
       "AIRBUS                     1\n",
       "BEECH                      9\n",
       "BELL                       2\n",
       "BOEING                     3\n",
       "CESSNA                    23\n",
       "CHAMPION                   2\n",
       "CHRISTEN                   1\n",
       "CONSOLIDATED VULTEE        1\n",
       "EMBRAER                    1\n",
       "ENSTROM                    1\n",
       "FAIRCHILD                  1\n",
       "FLIGHT DESIGN              1\n",
       "GLOBE                      1\n",
       "GREAT LAKES                1\n",
       "GRUMMAN                    1\n",
       "GULFSTREAM                 1\n",
       "HUGHES                     1\n",
       "LANCAIR                    2\n",
       "MAULE                      1\n",
       "MOONEY                     4\n",
       "NORTH AMERICAN             1\n",
       "PIPER                     10\n",
       "PITTS                      1\n",
       "SAAB                       1\n",
       "SABRELINER                 1\n",
       "SOCATA                     2\n",
       "VANS                       1\n",
       "dtype: int64"
      ]
     },
     "execution_count": 16,
     "metadata": {},
     "output_type": "execute_result"
    }
   ],
   "source": [
    "# View the counts\n",
    "# One can understand from the data CESSNA is highest used aircraft \n",
    "Aircraft_model_count.size()"
   ]
  },
  {
   "cell_type": "code",
   "execution_count": 17,
   "metadata": {
    "collapsed": true
   },
   "outputs": [],
   "source": [
    "# Group dataset with Fatal Count\n",
    "Fatal_accidents = FAA_new_df.groupby('FATAL_FLAG')"
   ]
  },
  {
   "cell_type": "code",
   "execution_count": 18,
   "metadata": {
    "collapsed": false
   },
   "outputs": [
    {
     "data": {
      "text/plain": [
       "FATAL_FLAG\n",
       "No     71\n",
       "Yes     7\n",
       "dtype: int64"
      ]
     },
     "execution_count": 18,
     "metadata": {},
     "output_type": "execute_result"
    }
   ],
   "source": [
    "# View the Fatal and Non Fatal Counts\n",
    "Fatal_accidents.size()"
   ]
  },
  {
   "cell_type": "code",
   "execution_count": 19,
   "metadata": {
    "collapsed": false
   },
   "outputs": [
    {
     "data": {
      "text/html": [
       "<div>\n",
       "<table border=\"1\" class=\"dataframe\">\n",
       "  <thead>\n",
       "    <tr style=\"text-align: right;\">\n",
       "      <th></th>\n",
       "      <th>ACFT_MAKE_NAME</th>\n",
       "      <th>LOC_STATE_NAME</th>\n",
       "      <th>ACFT_MODEL_NAME</th>\n",
       "      <th>RMK_TEXT</th>\n",
       "      <th>FLT_PHASE</th>\n",
       "      <th>EVENT_TYPE_DESC</th>\n",
       "      <th>FATAL_FLAG</th>\n",
       "    </tr>\n",
       "  </thead>\n",
       "  <tbody>\n",
       "    <tr>\n",
       "      <th>0</th>\n",
       "      <td>BEECH</td>\n",
       "      <td>North Carolina</td>\n",
       "      <td>36</td>\n",
       "      <td>AIRCRAFT CRASHED INTO TREES, THE 1 PERSON ON B...</td>\n",
       "      <td>UNKNOWN (UNK)</td>\n",
       "      <td>Accident</td>\n",
       "      <td>Yes</td>\n",
       "    </tr>\n",
       "    <tr>\n",
       "      <th>53</th>\n",
       "      <td>PIPER</td>\n",
       "      <td>Florida</td>\n",
       "      <td>PA28</td>\n",
       "      <td>AIRCRAFT CRASHED UNDER UNKNOWN CIRCUMSTANCES. ...</td>\n",
       "      <td>UNKNOWN (UNK)</td>\n",
       "      <td>Accident</td>\n",
       "      <td>Yes</td>\n",
       "    </tr>\n",
       "    <tr>\n",
       "      <th>55</th>\n",
       "      <td>FLIGHT DESIGN</td>\n",
       "      <td>California</td>\n",
       "      <td>CTLS</td>\n",
       "      <td>AIRCRAFT CRASHED UNDER UNKNOWN CIRCUMSTANCES A...</td>\n",
       "      <td>UNKNOWN (UNK)</td>\n",
       "      <td>Accident</td>\n",
       "      <td>Yes</td>\n",
       "    </tr>\n",
       "    <tr>\n",
       "      <th>79</th>\n",
       "      <td>NORTH AMERICAN</td>\n",
       "      <td>Arizona</td>\n",
       "      <td>F51</td>\n",
       "      <td>AIRCRAFT CRASHED UNDER UNKNOWN CIRCUMSTANCES, ...</td>\n",
       "      <td>UNKNOWN (UNK)</td>\n",
       "      <td>Accident</td>\n",
       "      <td>Yes</td>\n",
       "    </tr>\n",
       "    <tr>\n",
       "      <th>80</th>\n",
       "      <td>CHAMPION</td>\n",
       "      <td>California</td>\n",
       "      <td>8KCAB</td>\n",
       "      <td>N9872R, BEECH M35 AIRCRAFT, AND N5057G, BELLAN...</td>\n",
       "      <td>UNKNOWN (UNK)</td>\n",
       "      <td>Accident</td>\n",
       "      <td>Yes</td>\n",
       "    </tr>\n",
       "    <tr>\n",
       "      <th>81</th>\n",
       "      <td>BEECH</td>\n",
       "      <td>California</td>\n",
       "      <td>35</td>\n",
       "      <td>N9872R, BEECH M35 AIRCRAFT, AND N5057G, BELLAN...</td>\n",
       "      <td>UNKNOWN (UNK)</td>\n",
       "      <td>Accident</td>\n",
       "      <td>Yes</td>\n",
       "    </tr>\n",
       "    <tr>\n",
       "      <th>82</th>\n",
       "      <td>CESSNA</td>\n",
       "      <td>Alabama</td>\n",
       "      <td>182</td>\n",
       "      <td>N784CP AIRCRAFT CRASHED INTO A WOODED AREA NEA...</td>\n",
       "      <td>UNKNOWN (UNK)</td>\n",
       "      <td>Accident</td>\n",
       "      <td>Yes</td>\n",
       "    </tr>\n",
       "  </tbody>\n",
       "</table>\n",
       "</div>"
      ],
      "text/plain": [
       "    ACFT_MAKE_NAME  LOC_STATE_NAME ACFT_MODEL_NAME  \\\n",
       "0            BEECH  North Carolina              36   \n",
       "53           PIPER         Florida            PA28   \n",
       "55   FLIGHT DESIGN      California            CTLS   \n",
       "79  NORTH AMERICAN         Arizona             F51   \n",
       "80        CHAMPION      California           8KCAB   \n",
       "81           BEECH      California              35   \n",
       "82          CESSNA         Alabama             182   \n",
       "\n",
       "                                             RMK_TEXT      FLT_PHASE  \\\n",
       "0   AIRCRAFT CRASHED INTO TREES, THE 1 PERSON ON B...  UNKNOWN (UNK)   \n",
       "53  AIRCRAFT CRASHED UNDER UNKNOWN CIRCUMSTANCES. ...  UNKNOWN (UNK)   \n",
       "55  AIRCRAFT CRASHED UNDER UNKNOWN CIRCUMSTANCES A...  UNKNOWN (UNK)   \n",
       "79  AIRCRAFT CRASHED UNDER UNKNOWN CIRCUMSTANCES, ...  UNKNOWN (UNK)   \n",
       "80  N9872R, BEECH M35 AIRCRAFT, AND N5057G, BELLAN...  UNKNOWN (UNK)   \n",
       "81  N9872R, BEECH M35 AIRCRAFT, AND N5057G, BELLAN...  UNKNOWN (UNK)   \n",
       "82  N784CP AIRCRAFT CRASHED INTO A WOODED AREA NEA...  UNKNOWN (UNK)   \n",
       "\n",
       "   EVENT_TYPE_DESC FATAL_FLAG  \n",
       "0         Accident        Yes  \n",
       "53        Accident        Yes  \n",
       "55        Accident        Yes  \n",
       "79        Accident        Yes  \n",
       "80        Accident        Yes  \n",
       "81        Accident        Yes  \n",
       "82        Accident        Yes  "
      ]
     },
     "execution_count": 19,
     "metadata": {},
     "output_type": "execute_result"
    }
   ],
   "source": [
    "# Create Dataframe with only the fatal accidents (FATAL_FLAG vaue = Yes )\n",
    "fatal_yes = Fatal_accidents.get_group('Yes')\n",
    "fatal_yes"
   ]
  }
 ],
 "metadata": {
  "kernelspec": {
   "display_name": "Python [conda root]",
   "language": "python",
   "name": "conda-root-py"
  },
  "language_info": {
   "codemirror_mode": {
    "name": "ipython",
    "version": 2
   },
   "file_extension": ".py",
   "mimetype": "text/x-python",
   "name": "python",
   "nbconvert_exporter": "python",
   "pygments_lexer": "ipython2",
   "version": "2.7.12"
  }
 },
 "nbformat": 4,
 "nbformat_minor": 1
}
